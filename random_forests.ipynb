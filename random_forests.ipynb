{
 "cells": [
  {
   "cell_type": "markdown",
   "metadata": {},
   "source": [
    "# Ensemble Learning and Random Forests\n",
    "\n",
    "If you aggregate the predictions of a group of predictors (such as classifiers or regressors), you will often get better predictions than with the best individual predictor. A group of predictors is called an *ensemble*; thus this technique is called *Ensemble Learning*, and an Ensemble Learning Algorithm is called *Ensemble method*.\n",
    "\n",
    "As an example of Ensemble method, you can train a group of Decision Tree classifiers, eacb on a different random subset of training set. to make predictions, you obtain the predictions of all the individual trees, and then predict the class that gets the most votes. This Ensemble is known as *Random Forests*.\n",
    "\n",
    "Below, we will discuss the most popular Ensemble methods, including *bagging, boosting* and *stacking*, and explore *Random Forests*."
   ]
  },
  {
   "cell_type": "markdown",
   "metadata": {},
   "source": [
    "## Setup"
   ]
  },
  {
   "cell_type": "code",
   "execution_count": 37,
   "metadata": {},
   "outputs": [],
   "source": [
    "# Python ≥3.5 is required\n",
    "import sys\n",
    "assert sys.version_info >= (3, 5)\n",
    "\n",
    "# Scikit-Learn ≥0.20 is required\n",
    "import sklearn\n",
    "assert sklearn.__version__ >= \"0.20\"\n",
    "\n",
    "# Common imports\n",
    "import numpy as np\n",
    "import os\n",
    "\n",
    "# to make this notebook's output stable across runs\n",
    "np.random.seed(42)\n",
    "\n",
    "# To plot pretty figures\n",
    "%matplotlib inline\n",
    "import matplotlib as mpl\n",
    "import matplotlib.pyplot as plt\n",
    "mpl.rc('axes', labelsize=14)\n",
    "mpl.rc('xtick', labelsize=12)\n",
    "mpl.rc('ytick', labelsize=12)\n",
    "\n",
    "# Where to save the figures\n",
    "PROJECT_ROOT_DIR = \".\"\n",
    "IMAGES_PATH = os.path.join(PROJECT_ROOT_DIR, \"images\")\n",
    "os.makedirs(IMAGES_PATH, exist_ok=True)\n",
    "\n",
    "def save_fig(fig_id, tight_layout=True, fig_extension=\"png\", resolution=300):\n",
    "    path = os.path.join(IMAGES_PATH, fig_id + \".\" + fig_extension)\n",
    "    print(\"Saving figure\", fig_id)\n",
    "    if tight_layout:\n",
    "        plt.tight_layout()\n",
    "    plt.savefig(path, format=fig_extension, dpi=resolution)"
   ]
  },
  {
   "cell_type": "markdown",
   "metadata": {},
   "source": [
    "## Voting Classifiers"
   ]
  },
  {
   "cell_type": "code",
   "execution_count": 38,
   "metadata": {},
   "outputs": [],
   "source": [
    "from sklearn.datasets import make_moons\n",
    "from sklearn.model_selection import train_test_split\n",
    "\n",
    "X, y = make_moons(n_samples=500, noise=0.30, random_state=42)\n",
    "\n",
    "X_train, X_test, y_train, y_test = train_test_split(X, y, test_size=0.2, random_state=42)"
   ]
  },
  {
   "cell_type": "code",
   "execution_count": 39,
   "metadata": {},
   "outputs": [
    {
     "data": {
      "text/plain": [
       "VotingClassifier(estimators=[('lr', LogisticRegression(random_state=42)),\n",
       "                             ('svc', SVC(random_state=42)),\n",
       "                             ('rf', RandomForestClassifier(random_state=42))])"
      ]
     },
     "execution_count": 39,
     "metadata": {},
     "output_type": "execute_result"
    }
   ],
   "source": [
    "from sklearn.linear_model import LogisticRegression\n",
    "from sklearn.svm import SVC\n",
    "from sklearn.ensemble import RandomForestClassifier\n",
    "from sklearn.ensemble import VotingClassifier\n",
    "\n",
    "log_clf = LogisticRegression(solver=\"lbfgs\", random_state=42)\n",
    "svm_clf = SVC(gamma=\"scale\", random_state=42)\n",
    "rf_clf = RandomForestClassifier(n_estimators=100, random_state=42)\n",
    "\n",
    "voting_clf = VotingClassifier(\n",
    "    estimators=[\n",
    "        ('lr', log_clf), ('svc', svm_clf), ('rf', rf_clf),\n",
    "    ],\n",
    "    voting='hard'\n",
    ")\n",
    "\n",
    "voting_clf.fit(X_train, y_train)"
   ]
  },
  {
   "cell_type": "code",
   "execution_count": 40,
   "metadata": {},
   "outputs": [
    {
     "name": "stdout",
     "output_type": "stream",
     "text": [
      "LogisticRegression 0.85\n",
      "SVC 0.87\n",
      "RandomForestClassifier 0.88\n",
      "VotingClassifier 0.87\n"
     ]
    }
   ],
   "source": [
    "from sklearn.metrics import accuracy_score\n",
    "\n",
    "for clf in (log_clf, svm_clf, rf_clf, voting_clf):\n",
    "    clf.fit(X_train, y_train)\n",
    "    y_pred = clf.predict(X_test)    \n",
    "    print(clf.__class__.__name__, accuracy_score(y_test, y_pred))"
   ]
  },
  {
   "cell_type": "markdown",
   "metadata": {},
   "source": [
    "#### Soft Voting"
   ]
  },
  {
   "cell_type": "code",
   "execution_count": 41,
   "metadata": {},
   "outputs": [
    {
     "name": "stdout",
     "output_type": "stream",
     "text": [
      "LogisticRegression 0.85\n",
      "SVC 0.87\n",
      "RandomForestClassifier 0.88\n",
      "VotingClassifier 0.89\n"
     ]
    }
   ],
   "source": [
    "log_clf = LogisticRegression(solver=\"lbfgs\", random_state=42)\n",
    "svm_clf = SVC(gamma=\"scale\", probability=True, random_state=42)\n",
    "rf_clf = RandomForestClassifier(n_estimators=100, random_state=42)\n",
    "\n",
    "voting_clf = VotingClassifier(\n",
    "    estimators=[\n",
    "        ('lr', log_clf), ('svc', svm_clf), ('rf', rf_clf),\n",
    "    ],\n",
    "    voting='soft'\n",
    ")\n",
    "\n",
    "for clf in (log_clf, svm_clf, rf_clf, voting_clf):\n",
    "    clf.fit(X_train, y_train)\n",
    "    y_pred = clf.predict(X_test)    \n",
    "    print(clf.__class__.__name__, accuracy_score(y_test, y_pred))"
   ]
  },
  {
   "cell_type": "markdown",
   "metadata": {},
   "source": [
    "## Bagging and Pasting"
   ]
  },
  {
   "cell_type": "markdown",
   "metadata": {},
   "source": [
    "In both, bagging and pasting, the training instances are sampled several times across multiple predictors, but bagging \n",
    "allows sampling for the same predictor as well. This sampling when performed with *replacement* is called *bagging* while sampling *without replacement* is called *pasting*.\n",
    "\n",
    "The below code trains an ensemble of 500 Decision Tree classifiers: each is trained on 100 training instances randomly sampled from the training set with replacement (to use pasting instead, set bootstrap=False). The n_jobs parameter tells how many CPU cores to use."
   ]
  },
  {
   "cell_type": "code",
   "execution_count": 46,
   "metadata": {},
   "outputs": [
    {
     "data": {
      "text/plain": [
       "0.9"
      ]
     },
     "execution_count": 46,
     "metadata": {},
     "output_type": "execute_result"
    }
   ],
   "source": [
    "from sklearn.ensemble import BaggingClassifier\n",
    "\n",
    "from sklearn.tree import DecisionTreeClassifier\n",
    "\n",
    "bag_clf = BaggingClassifier(DecisionTreeClassifier(), n_estimators=500, max_samples=100, bootstrap=True, n_jobs=-1)\n",
    "\n",
    "bag_clf.fit(X_train, y_train)\n",
    "\n",
    "y_pred = bag_clf.predict(X_test)\n",
    "\n",
    "accuracy_score(y_test, y_pred)"
   ]
  },
  {
   "cell_type": "code",
   "execution_count": 87,
   "metadata": {},
   "outputs": [
    {
     "data": {
      "text/plain": [
       "0.9"
      ]
     },
     "execution_count": 87,
     "metadata": {},
     "output_type": "execute_result"
    }
   ],
   "source": [
    "bag_p_clf = BaggingClassifier(DecisionTreeClassifier(), n_estimators=500, max_samples=100, bootstrap=False, n_jobs=-1)\n",
    "\n",
    "bag_p_clf.fit(X_train, y_train)\n",
    "\n",
    "y_pred = bag_p_clf.predict(X_test)\n",
    "\n",
    "accuracy_score(y_test, y_pred)"
   ]
  },
  {
   "cell_type": "code",
   "execution_count": 47,
   "metadata": {},
   "outputs": [
    {
     "name": "stdout",
     "output_type": "stream",
     "text": [
      "0.82\n"
     ]
    }
   ],
   "source": [
    "tree_clf = DecisionTreeClassifier(random_state=42)\n",
    "tree_clf.fit(X_train, y_train)\n",
    "y_pred_tree = tree_clf.predict(X_test)\n",
    "print(accuracy_score(y_test, y_pred_tree))"
   ]
  },
  {
   "cell_type": "code",
   "execution_count": 91,
   "metadata": {},
   "outputs": [
    {
     "name": "stdout",
     "output_type": "stream",
     "text": [
      "Saving figure decision_tree_without_and_with_bagging_plot\n"
     ]
    },
    {
     "data": {
      "image/png": "[encoded data removed]",
      "text/plain": [
       "<Figure size 720x288 with 2 Axes>"
      ]
     },
     "metadata": {
      "needs_background": "light"
     },
     "output_type": "display_data"
    }
   ],
   "source": [
    "from matplotlib.colors import ListedColormap\n",
    "\n",
    "def plot_decision_boundary(clf, X, y, axes=[-1.5, 2.45, -1, 1.5], alpha=0.5, contour=True):\n",
    "    x1s = np.linspace(axes[0], axes[1], 100)\n",
    "    x2s = np.linspace(axes[2], axes[3], 100)    \n",
    "    x1, x2 = np.meshgrid(x1s, x2s)\n",
    "    \n",
    "    X_new = np.c_[x1.ravel(), x2.ravel()]\n",
    "    y_pred = clf.predict(X_new).reshape(x1.shape)\n",
    "    custom_cmap = ListedColormap(['#fafab0','#9898ff','#a0faa0'])\n",
    "\n",
    "    plt.contourf(x1, x2, y_pred, alpha=0.3, cmap=custom_cmap)\n",
    "    \n",
    "    custom_cmap2 = ListedColormap(['#7d7d58','#4c4c7f','#507d50'])\n",
    "    plt.contour(x1, x2, y_pred, cmap=custom_cmap2, alpha=0.8)\n",
    "\n",
    "    plt.plot(X[:, 0][y==0], X[:, 1][y==0], \"yo\", alpha=alpha)\n",
    "    plt.plot(X[:, 0][y==1], X[:, 1][y==1], \"bs\", alpha=alpha)\n",
    "    plt.axis(axes)\n",
    "    plt.xlabel(r\"$x_1$\", fontsize=18)\n",
    "    plt.ylabel(r\"$x_2$\", fontsize=18, rotation=0)\n",
    "    \n",
    "fix, axes = plt.subplots(ncols=2, figsize=(10,4), sharey=True)\n",
    "\n",
    "plt.sca(axes[0])\n",
    "plot_decision_boundary(tree_clf, X_train, y_train)\n",
    "plt.title('Decision Tree',fontsize=14)    \n",
    "\n",
    "plt.sca(axes[1])\n",
    "plot_decision_boundary(bag_clf, X_train, y_train)\n",
    "plt.ylabel('')\n",
    "plt.title('Decision Tree with bagging', fontsize=14)    \n",
    "\n",
    "save_fig(\"decision_tree_without_and_with_bagging_plot\")\n",
    "plt.show()"
   ]
  },
  {
   "cell_type": "markdown",
   "metadata": {},
   "source": [
    "## Random Forest"
   ]
  },
  {
   "cell_type": "code",
   "execution_count": 95,
   "metadata": {},
   "outputs": [
    {
     "data": {
      "text/plain": [
       "0.9"
      ]
     },
     "execution_count": 95,
     "metadata": {},
     "output_type": "execute_result"
    }
   ],
   "source": [
    "from sklearn.ensemble import RandomForestClassifier\n",
    "\n",
    "rf_clf = RandomForestClassifier(n_estimators=500, max_leaf_nodes=16, n_jobs=-1)\n",
    "\n",
    "rf_clf.fit(X_train, y_train)\n",
    "\n",
    "y_pred_rf = rf_clf.predict(X_test)\n",
    "\n",
    "accuracy_score(y_test, y_pred_rf)"
   ]
  },
  {
   "cell_type": "code",
   "execution_count": 96,
   "metadata": {},
   "outputs": [
    {
     "data": {
      "text/plain": [
       "0.93"
      ]
     },
     "execution_count": 96,
     "metadata": {},
     "output_type": "execute_result"
    }
   ],
   "source": [
    "bag_clf = BaggingClassifier(\n",
    "    DecisionTreeClassifier(splitter=\"random\", max_leaf_nodes=16, random_state=42),\n",
    "    n_estimators=500, max_samples=1.0, bootstrap=True, random_state=42)\n",
    "\n",
    "bag_clf.fit(X, y)\n",
    "\n",
    "y_pred_bag = bag_clf.predict(X_test)\n",
    "\n",
    "accuracy_score(y_test, y_pred_bag)"
   ]
  },
  {
   "cell_type": "code",
   "execution_count": 100,
   "metadata": {},
   "outputs": [
    {
     "data": {
      "text/plain": [
       "0.97"
      ]
     },
     "execution_count": 100,
     "metadata": {},
     "output_type": "execute_result"
    }
   ],
   "source": [
    "np.sum(y_pred_bag == y_pred_rf) / len(y_pred_bag)  # almost identical predictions"
   ]
  },
  {
   "cell_type": "markdown",
   "metadata": {},
   "source": [
    "#### Feature Importance"
   ]
  },
  {
   "cell_type": "markdown",
   "metadata": {},
   "source": [
    "* Iris Dataset"
   ]
  },
  {
   "cell_type": "code",
   "execution_count": 108,
   "metadata": {},
   "outputs": [
    {
     "name": "stdout",
     "output_type": "stream",
     "text": [
      "sepal length (cm) 0.09991985837797014\n",
      "sepal width (cm) 0.023534375749625542\n",
      "petal length (cm) 0.42679472686102726\n",
      "petal width (cm) 0.449751039011377\n"
     ]
    }
   ],
   "source": [
    "from sklearn.datasets import load_iris\n",
    "\n",
    "iris = load_iris()\n",
    "\n",
    "rf_clf = RandomForestClassifier(n_estimators=500, n_jobs=-1)\n",
    "\n",
    "rf_clf.fit(iris['data'], iris['target'])\n",
    "\n",
    "for name, score in zip(iris['feature_names'], rf_clf.feature_importances_):\n",
    "    print(name, score)"
   ]
  },
  {
   "cell_type": "markdown",
   "metadata": {},
   "source": [
    "It seems that the petal length and petal width are the most important features."
   ]
  },
  {
   "cell_type": "markdown",
   "metadata": {},
   "source": [
    "* MNIST Dataset"
   ]
  },
  {
   "cell_type": "code",
   "execution_count": 110,
   "metadata": {},
   "outputs": [
    {
     "data": {
      "text/plain": [
       "array([0.00000000e+00, 0.00000000e+00, 0.00000000e+00, 0.00000000e+00,\n",
       "       0.00000000e+00, 0.00000000e+00, 0.00000000e+00, 0.00000000e+00,\n",
       "       0.00000000e+00, 0.00000000e+00, 0.00000000e+00, 0.00000000e+00,\n",
       "       0.00000000e+00, 0.00000000e+00, 0.00000000e+00, 0.00000000e+00,\n",
       "       0.00000000e+00, 0.00000000e+00, 0.00000000e+00, 0.00000000e+00,\n",
       "       0.00000000e+00, 0.00000000e+00, 0.00000000e+00, 0.00000000e+00,\n",
       "       0.00000000e+00, 0.00000000e+00, 0.00000000e+00, 0.00000000e+00,\n",
       "       0.00000000e+00, 0.00000000e+00, 0.00000000e+00, 0.00000000e+00,\n",
       "       0.00000000e+00, 0.00000000e+00, 3.13668159e-07, 6.28737024e-07,\n",
       "       1.51289846e-06, 2.30265116e-06, 4.11958200e-06, 3.51604270e-06,\n",
       "       1.80271386e-06, 2.93191758e-06, 1.52505574e-06, 3.55353595e-06,\n",
       "       3.13323836e-06, 3.24188578e-06, 3.13577715e-07, 2.37973461e-06,\n",
       "       4.56525367e-07, 2.85803540e-07, 0.00000000e+00, 9.39484674e-07,\n",
       "       0.00000000e+00, 0.00000000e+00, 0.00000000e+00, 0.00000000e+00,\n",
       "       0.00000000e+00, 0.00000000e+00, 0.00000000e+00, 9.36293599e-07,\n",
       "       0.00000000e+00, 0.00000000e+00, 4.74852205e-06, 7.34406411e-06,\n",
       "       1.53353626e-05, 6.37689626e-05, 6.41615599e-05, 1.25928559e-04,\n",
       "       1.60369396e-04, 2.01891022e-04, 2.64801209e-04, 1.29731345e-04,\n",
       "       6.17425007e-05, 5.52776725e-05, 5.79612630e-05, 6.92443891e-05,\n",
       "       3.74207685e-05, 1.53321711e-05, 4.47932350e-06, 1.84800230e-06,\n",
       "       3.13624560e-07, 0.00000000e+00, 0.00000000e+00, 0.00000000e+00,\n",
       "       0.00000000e+00, 0.00000000e+00, 0.00000000e+00, 6.35138011e-07,\n",
       "       1.73183609e-06, 1.17071615e-06, 5.56543594e-06, 2.96703096e-05,\n",
       "       5.82357388e-05, 1.53884756e-04, 1.96166939e-04, 4.42520920e-04,\n",
       "       8.25236462e-04, 8.54154692e-04, 1.05039633e-03, 1.64115046e-03,\n",
       "       3.02553714e-03, 1.94201042e-03, 8.40838976e-04, 9.44125403e-04,\n",
       "       2.94348389e-04, 1.82247111e-04, 6.05463364e-05, 3.00370334e-05,\n",
       "       1.32997433e-05, 2.22302610e-06, 1.54083884e-06, 0.00000000e+00,\n",
       "       0.00000000e+00, 0.00000000e+00, 1.22372059e-06, 8.85694601e-07,\n",
       "       7.48034211e-06, 1.04184202e-05, 2.42510892e-05, 6.49438772e-05,\n",
       "       1.59295141e-04, 3.75817357e-04, 8.20403732e-04, 1.07276063e-03,\n",
       "       1.62001680e-03, 2.52310314e-03, 3.00859499e-03, 1.91864630e-03,\n",
       "       1.33858166e-03, 1.20675951e-03, 8.27603369e-04, 5.80457257e-04,\n",
       "       3.70065906e-04, 2.13093844e-04, 1.64366218e-04, 8.90264996e-05,\n",
       "       3.12638100e-05, 1.90497693e-05, 3.36624496e-06, 0.00000000e+00,\n",
       "       0.00000000e+00, 0.00000000e+00, 5.29262601e-07, 8.56961487e-07,\n",
       "       1.84990746e-05, 4.80700534e-05, 1.14993002e-04, 2.96417779e-04,\n",
       "       6.23307125e-04, 1.40926125e-03, 1.37309869e-03, 2.30199575e-03,\n",
       "       3.63601811e-03, 4.11177873e-03, 3.99201149e-03, 7.41697633e-03,\n",
       "       4.75843970e-03, 3.53655177e-03, 2.11282904e-03, 1.57659269e-03,\n",
       "       1.16190834e-03, 7.05633257e-04, 5.90619791e-04, 3.99600405e-04,\n",
       "       8.96536926e-05, 2.65851228e-05, 4.38421231e-06, 3.10375643e-07,\n",
       "       0.00000000e+00, 0.00000000e+00, 3.00181982e-06, 8.48085207e-06,\n",
       "       3.49207647e-05, 9.66171936e-05, 2.86650140e-04, 4.15391901e-04,\n",
       "       8.24017978e-04, 2.15116301e-03, 2.67286844e-03, 3.04211689e-03,\n",
       "       1.81707256e-03, 3.12497920e-03, 4.97138670e-03, 5.30494681e-03,\n",
       "       3.38220371e-03, 2.16900534e-03, 2.19921962e-03, 1.82933892e-03,\n",
       "       1.45507121e-03, 1.63634774e-03, 1.28445815e-03, 8.42378332e-04,\n",
       "       4.02988409e-04, 6.24993922e-05, 6.03671163e-06, 2.63521072e-06,\n",
       "       0.00000000e+00, 6.19563145e-07, 1.20553722e-06, 1.42875550e-05,\n",
       "       7.22525995e-05, 1.87593502e-04, 3.36952932e-04, 6.31212424e-04,\n",
       "       1.04483075e-03, 2.10126705e-03, 3.26063120e-03, 2.51706556e-03,\n",
       "       2.27538670e-03, 3.77641368e-03, 5.51973034e-03, 6.58124076e-03,\n",
       "       4.45354137e-03, 3.09743485e-03, 2.83929642e-03, 1.72836178e-03,\n",
       "       1.83064289e-03, 1.55810062e-03, 1.51863197e-03, 1.11414299e-03,\n",
       "       5.77755931e-04, 2.76307757e-04, 1.45115710e-05, 1.05998264e-06,\n",
       "       0.00000000e+00, 9.09347140e-07, 4.67413978e-06, 2.09508160e-05,\n",
       "       9.52992079e-05, 1.70081992e-04, 4.33322374e-04, 7.17478065e-04,\n",
       "       1.02970941e-03, 1.27612894e-03, 2.71820141e-03, 3.15834700e-03,\n",
       "       3.04612746e-03, 4.14180077e-03, 4.65342780e-03, 5.69022837e-03,\n",
       "       4.24724367e-03, 3.23224098e-03, 3.36359657e-03, 3.00348752e-03,\n",
       "       2.09376577e-03, 1.31704775e-03, 1.05101661e-03, 9.73027739e-04,\n",
       "       8.69041137e-04, 1.95120635e-04, 1.45605191e-05, 1.98594621e-06,\n",
       "       0.00000000e+00, 1.21799039e-06, 6.07195263e-06, 2.74870044e-05,\n",
       "       7.45644367e-05, 2.38837923e-04, 3.58275604e-04, 8.30239058e-04,\n",
       "       1.80083693e-03, 2.87743914e-03, 4.94781698e-03, 4.03742080e-03,\n",
       "       3.20867913e-03, 3.98982354e-03, 4.01044050e-03, 4.65797033e-03,\n",
       "       3.24344046e-03, 3.98607567e-03, 4.26551201e-03, 3.09856688e-03,\n",
       "       2.91069664e-03, 1.56083914e-03, 7.78155462e-04, 9.46247516e-04,\n",
       "       4.89641442e-04, 9.06909013e-05, 3.20256533e-05, 2.85548544e-06,\n",
       "       0.00000000e+00, 0.00000000e+00, 4.45951073e-06, 2.59639936e-05,\n",
       "       9.55801927e-05, 2.13706434e-04, 3.87789663e-04, 9.20041177e-04,\n",
       "       1.47491409e-03, 2.53714456e-03, 5.40410585e-03, 5.15026514e-03,\n",
       "       2.99575331e-03, 2.77069601e-03, 2.90322285e-03, 4.07948219e-03,\n",
       "       3.66055425e-03, 3.94820835e-03, 4.52669697e-03, 3.62975680e-03,\n",
       "       2.78552144e-03, 2.22700312e-03, 1.05758526e-03, 4.21997130e-04,\n",
       "       2.47121784e-04, 7.44669615e-05, 1.49515686e-05, 8.66493507e-07,\n",
       "       0.00000000e+00, 1.38343358e-06, 5.15943874e-06, 2.17357856e-05,\n",
       "       8.20904555e-05, 2.00038011e-04, 5.77401653e-04, 1.31394594e-03,\n",
       "       2.61066843e-03, 3.88242328e-03, 7.20182490e-03, 6.80561847e-03,\n",
       "       3.59011322e-03, 3.03953680e-03, 5.30605653e-03, 6.04285896e-03,\n",
       "       3.40088810e-03, 3.26517782e-03, 5.22064082e-03, 3.26068535e-03,\n",
       "       1.55944737e-03, 1.74641844e-03, 1.85079197e-03, 5.85482642e-04,\n",
       "       1.28418632e-04, 3.61382921e-05, 1.13507448e-05, 8.68034400e-07,\n",
       "       0.00000000e+00, 7.89085740e-07, 2.79705111e-06, 1.82260583e-05,\n",
       "       9.10300509e-05, 3.08058344e-04, 9.64414722e-04, 1.60433949e-03,\n",
       "       3.24119867e-03, 3.74768582e-03, 4.21065343e-03, 4.84116039e-03,\n",
       "       4.81009281e-03, 4.57805794e-03, 7.23475180e-03, 5.32443670e-03,\n",
       "       3.13433620e-03, 3.85129925e-03, 3.75445919e-03, 2.50432434e-03,\n",
       "       1.57345226e-03, 2.25827399e-03, 1.72777775e-03, 7.58638142e-04,\n",
       "       1.23152470e-04, 2.29306001e-05, 7.33130343e-06, 0.00000000e+00,\n",
       "       0.00000000e+00, 0.00000000e+00, 3.69597010e-06, 1.49033926e-05,\n",
       "       8.63745197e-05, 3.01436178e-04, 9.02771919e-04, 1.97130648e-03,\n",
       "       2.64349675e-03, 4.39477086e-03, 6.09825819e-03, 5.27288666e-03,\n",
       "       5.30273926e-03, 6.58467783e-03, 9.79148976e-03, 5.18241032e-03,\n",
       "       3.39460657e-03, 6.29371788e-03, 3.07728347e-03, 1.78802648e-03,\n",
       "       1.11932630e-03, 1.20026131e-03, 2.59784029e-03, 9.02398159e-04,\n",
       "       1.25619247e-04, 1.65897614e-05, 8.54095284e-06, 0.00000000e+00,\n",
       "       9.06862556e-07, 3.13316993e-07, 2.09209474e-06, 1.66814902e-05,\n",
       "       8.85725364e-05, 3.21474651e-04, 9.98247947e-04, 2.14664212e-03,\n",
       "       4.73309292e-03, 5.75384603e-03, 4.00927189e-03, 4.66532695e-03,\n",
       "       4.32515577e-03, 7.30462193e-03, 6.30990155e-03, 4.21482599e-03,\n",
       "       5.10805435e-03, 8.23664985e-03, 3.09430716e-03, 1.57823733e-03,\n",
       "       1.11963667e-03, 1.89947460e-03, 1.66986430e-03, 5.87085326e-04,\n",
       "       1.48813674e-04, 4.06664614e-05, 5.63437736e-06, 1.58784402e-07,\n",
       "       0.00000000e+00, 0.00000000e+00, 1.80399047e-06, 2.45528604e-05,\n",
       "       7.08326217e-05, 3.82583394e-04, 1.10246961e-03, 3.25853755e-03,\n",
       "       3.15337997e-03, 5.59597619e-03, 4.71789231e-03, 3.84711427e-03,\n",
       "       4.81914856e-03, 9.68755124e-03, 6.33656053e-03, 5.01589980e-03,\n",
       "       3.60626501e-03, 5.70334764e-03, 2.89518331e-03, 1.82378695e-03,\n",
       "       1.63559150e-03, 2.44403824e-03, 8.85571087e-04, 5.16737565e-04,\n",
       "       1.89648851e-04, 4.24292508e-05, 1.70753033e-05, 0.00000000e+00,\n",
       "       0.00000000e+00, 0.00000000e+00, 4.78146060e-06, 1.98915626e-05,\n",
       "       9.83136783e-05, 4.15766749e-04, 2.33870331e-03, 3.04887808e-03,\n",
       "       2.99359632e-03, 4.99723796e-03, 4.82009038e-03, 4.89960588e-03,\n",
       "       6.40454403e-03, 6.94272101e-03, 6.06550474e-03, 2.88392533e-03,\n",
       "       3.10527653e-03, 3.55265089e-03, 2.44762699e-03, 1.86648805e-03,\n",
       "       1.45193862e-03, 1.41577925e-03, 6.07261670e-04, 3.74407815e-04,\n",
       "       1.75130408e-04, 5.66459420e-05, 1.30765069e-05, 1.79396744e-06,\n",
       "       0.00000000e+00, 6.18741661e-07, 5.35569977e-06, 3.58106561e-05,\n",
       "       1.37228100e-04, 5.44888763e-04, 1.04960614e-03, 2.08874919e-03,\n",
       "       3.38881074e-03, 4.78452379e-03, 4.98902732e-03, 5.25686435e-03,\n",
       "       4.49580970e-03, 7.40449830e-03, 4.24894505e-03, 2.36066437e-03,\n",
       "       1.79890346e-03, 2.52104121e-03, 2.05544191e-03, 1.31289294e-03,\n",
       "       1.61457513e-03, 9.90369338e-04, 6.01012383e-04, 3.28568050e-04,\n",
       "       1.66816023e-04, 6.95030316e-05, 7.29416781e-06, 5.29844953e-06,\n",
       "       0.00000000e+00, 9.09202376e-07, 3.59321647e-06, 4.69835068e-05,\n",
       "       1.53439417e-04, 5.25678946e-04, 1.54696317e-03, 2.55343514e-03,\n",
       "       2.08525828e-03, 3.15427091e-03, 5.79642194e-03, 5.71033191e-03,\n",
       "       4.19779208e-03, 4.29927350e-03, 2.63501766e-03, 1.84028995e-03,\n",
       "       1.18841422e-03, 1.64003491e-03, 2.53632914e-03, 1.87976573e-03,\n",
       "       1.37501799e-03, 1.13732963e-03, 6.19011347e-04, 4.25934248e-04,\n",
       "       2.12134315e-04, 5.81410983e-05, 7.18673246e-06, 1.23251157e-06,\n",
       "       0.00000000e+00, 1.33672504e-06, 1.15087585e-05, 7.30802164e-05,\n",
       "       2.86972120e-04, 6.18337109e-04, 1.30627304e-03, 3.12289189e-03,\n",
       "       5.11524170e-03, 5.45649814e-03, 5.91865676e-03, 7.68226369e-03,\n",
       "       3.46216551e-03, 2.56662716e-03, 1.87187679e-03, 1.29707857e-03,\n",
       "       1.30736363e-03, 1.93689759e-03, 3.74677501e-03, 2.37527363e-03,\n",
       "       1.49164221e-03, 6.69079931e-04, 9.46999650e-04, 3.50574576e-04,\n",
       "       1.48070566e-04, 3.37660593e-05, 2.47667569e-06, 6.21857859e-07,\n",
       "       0.00000000e+00, 1.81324990e-06, 2.72158032e-06, 7.14240638e-05,\n",
       "       2.37139906e-04, 5.58343648e-04, 1.95611607e-03, 3.01200508e-03,\n",
       "       5.50041471e-03, 5.36764820e-03, 3.42292200e-03, 3.33212973e-03,\n",
       "       3.10919517e-03, 2.00898253e-03, 1.78493453e-03, 1.62441762e-03,\n",
       "       1.76544257e-03, 2.04879960e-03, 2.81198578e-03, 1.54546488e-03,\n",
       "       1.17872554e-03, 7.72900966e-04, 5.63185098e-04, 3.75088508e-04,\n",
       "       1.33264276e-04, 1.95091253e-05, 3.56201479e-06, 0.00000000e+00,\n",
       "       0.00000000e+00, 0.00000000e+00, 6.70047990e-06, 3.78333984e-05,\n",
       "       1.46989402e-04, 5.86924093e-04, 9.51603744e-04, 3.54988806e-03,\n",
       "       5.21233301e-03, 3.47271449e-03, 2.70828282e-03, 1.66792871e-03,\n",
       "       1.88183793e-03, 1.45177845e-03, 1.32164081e-03, 1.23495301e-03,\n",
       "       1.33772942e-03, 1.56676575e-03, 1.24777612e-03, 1.35924838e-03,\n",
       "       7.57774432e-04, 4.83781776e-04, 3.01734863e-04, 1.63118241e-04,\n",
       "       8.16831023e-05, 1.09631650e-05, 4.08887859e-07, 0.00000000e+00,\n",
       "       0.00000000e+00, 0.00000000e+00, 4.06245955e-06, 2.91004673e-05,\n",
       "       9.12948687e-05, 2.50094044e-04, 5.71980978e-04, 2.01748422e-03,\n",
       "       1.89626152e-03, 3.17871687e-03, 3.03672320e-03, 1.96823592e-03,\n",
       "       1.99028992e-03, 1.83405565e-03, 1.45329954e-03, 1.54691878e-03,\n",
       "       1.05906385e-03, 1.00211709e-03, 8.52807863e-04, 5.47067909e-04,\n",
       "       3.46137654e-04, 2.49121504e-04, 1.48156897e-04, 6.34869739e-05,\n",
       "       2.53126662e-05, 5.49428043e-06, 5.52277589e-07, 0.00000000e+00,\n",
       "       0.00000000e+00, 0.00000000e+00, 3.10289465e-07, 1.59027175e-05,\n",
       "       5.89928582e-05, 1.56995846e-04, 3.99738585e-04, 8.14814385e-04,\n",
       "       2.13573632e-03, 2.23964977e-03, 2.84574278e-03, 3.43319436e-03,\n",
       "       5.09038234e-03, 4.04854728e-03, 4.65013423e-03, 2.53004193e-03,\n",
       "       1.65127603e-03, 1.01577993e-03, 6.31164672e-04, 3.71476771e-04,\n",
       "       3.07491877e-04, 1.37121260e-04, 7.50339134e-05, 3.23272178e-05,\n",
       "       1.19055337e-05, 4.92881397e-06, 1.48199573e-06, 0.00000000e+00,\n",
       "       0.00000000e+00, 0.00000000e+00, 1.46183676e-06, 6.05319574e-06,\n",
       "       4.80124710e-05, 1.21200261e-04, 2.17550747e-04, 4.27339605e-04,\n",
       "       6.54436719e-04, 7.37536593e-04, 1.52492920e-03, 1.12147638e-03,\n",
       "       1.68082909e-03, 1.03707653e-03, 1.12003113e-03, 6.96297928e-04,\n",
       "       5.45122159e-04, 4.66650673e-04, 3.45686147e-04, 2.22292945e-04,\n",
       "       1.29176488e-04, 7.65058425e-05, 3.26365187e-05, 1.52272453e-05,\n",
       "       9.35616934e-06, 1.41516298e-06, 0.00000000e+00, 0.00000000e+00,\n",
       "       0.00000000e+00, 0.00000000e+00, 0.00000000e+00, 0.00000000e+00,\n",
       "       1.49080975e-05, 5.48881852e-05, 9.43942609e-05, 2.69713038e-04,\n",
       "       3.39678788e-04, 6.80276593e-04, 8.35948555e-04, 8.43859083e-04,\n",
       "       8.05815243e-04, 6.27156638e-04, 5.73738801e-04, 4.02124871e-04,\n",
       "       4.48149754e-04, 4.78261971e-04, 2.66090089e-04, 2.04017010e-04,\n",
       "       1.00451685e-04, 3.65383891e-05, 1.00610075e-05, 2.71411579e-06,\n",
       "       3.49189127e-06, 4.11711646e-07, 0.00000000e+00, 0.00000000e+00,\n",
       "       0.00000000e+00, 0.00000000e+00, 0.00000000e+00, 9.34442503e-07,\n",
       "       4.88692209e-06, 1.08142236e-05, 1.09488350e-05, 2.11124837e-05,\n",
       "       6.15701480e-05, 8.48673475e-05, 8.31225000e-05, 2.49260513e-04,\n",
       "       2.04042621e-04, 2.85686996e-04, 3.73348368e-04, 1.76741660e-04,\n",
       "       1.46988496e-04, 1.75776976e-04, 7.74587688e-05, 3.63925123e-05,\n",
       "       2.75731538e-05, 1.32217906e-05, 2.17941859e-06, 1.35162275e-06,\n",
       "       0.00000000e+00, 0.00000000e+00, 0.00000000e+00, 0.00000000e+00,\n",
       "       0.00000000e+00, 0.00000000e+00, 0.00000000e+00, 0.00000000e+00,\n",
       "       0.00000000e+00, 0.00000000e+00, 2.25761580e-06, 2.72192461e-07,\n",
       "       7.44840738e-07, 6.51842660e-07, 1.21365249e-06, 4.36559369e-06,\n",
       "       3.31814135e-06, 3.68882280e-06, 4.20006225e-06, 3.39559535e-06,\n",
       "       5.49059054e-06, 1.99492302e-06, 3.16563593e-06, 3.05374779e-06,\n",
       "       3.10365087e-07, 6.64022906e-07, 1.44504661e-06, 7.84278432e-07,\n",
       "       0.00000000e+00, 0.00000000e+00, 0.00000000e+00, 0.00000000e+00])"
      ]
     },
     "execution_count": 110,
     "metadata": {},
     "output_type": "execute_result"
    }
   ],
   "source": [
    "from sklearn.datasets import fetch_openml\n",
    "\n",
    "mnist = fetch_openml('mnist_784', version=1)\n",
    "mnist.target = mnist.target.astype(np.uint8)\n",
    "\n",
    "rnd_clf = RandomForestClassifier(n_estimators=100, random_state=42)\n",
    "rnd_clf.fit(mnist[\"data\"], mnist[\"target\"])"
   ]
  },
  {
   "cell_type": "code",
   "execution_count": 112,
   "metadata": {},
   "outputs": [
    {
     "name": "stdout",
     "output_type": "stream",
     "text": [
      "Saving figure mnist_feature_importance_plot\n"
     ]
    },
    {
     "data": {
      "image/png": "[encoded data removed]",
      "text/plain": [
       "<Figure size 432x288 with 2 Axes>"
      ]
     },
     "metadata": {
      "needs_background": "light"
     },
     "output_type": "display_data"
    }
   ],
   "source": [
    "def plot_digit(data):\n",
    "    image = data.reshape(28, 28)\n",
    "    plt.imshow(image, cmap = mpl.cm.hot, interpolation=\"nearest\")\n",
    "    plt.axis(\"off\")\n",
    "\n",
    "plot_digit(rnd_clf.feature_importances_)\n",
    "\n",
    "cbar = plt.colorbar(ticks=[rnd_clf.feature_importances_.min(), rnd_clf.feature_importances_.max()])\n",
    "cbar.ax.set_yticklabels(['Not important', 'Very important'])\n",
    "\n",
    "save_fig(\"mnist_feature_importance_plot\")\n",
    "plt.show()"
   ]
  },
  {
   "cell_type": "markdown",
   "metadata": {},
   "source": [
    "Random Forests are very handy to get a quick understanding of what features actually matter, in particular if you need to perform feature selection."
   ]
  },
  {
   "cell_type": "markdown",
   "metadata": {},
   "source": [
    "## Boosting"
   ]
  },
  {
   "cell_type": "markdown",
   "metadata": {},
   "source": [
    "Boosting is an ensemble method that combine several weak learners into a strong learner. The general idea is to train predictors sequentially, each trying to correct its predecessor.\n",
    "\n",
    "Adaboost and Gradient Boosting are most popular methods."
   ]
  },
  {
   "cell_type": "markdown",
   "metadata": {},
   "source": [
    "### Adaboost\n",
    "One way for a new predictor to correct its predecessor is to pay a bit more attention to the training instances that the predecessor underfitted. This results in new predictors focussing more and more on the hard cases. This is the technique used by Adaboost."
   ]
  },
  {
   "cell_type": "code",
   "execution_count": 116,
   "metadata": {},
   "outputs": [
    {
     "data": {
      "text/plain": [
       "0.89"
      ]
     },
     "execution_count": 116,
     "metadata": {},
     "output_type": "execute_result"
    }
   ],
   "source": [
    "from sklearn.ensemble import AdaBoostClassifier\n",
    "\n",
    "# 200 decision stumps. A decision stump is a Decision Tree with max_depth=1.\n",
    "ada_clf = AdaBoostClassifier(\n",
    "            DecisionTreeClassifier(max_depth=1), n_estimators=200, algorithm='SAMME.R', learning_rate=0.5\n",
    "        )\n",
    "\n",
    "ada_clf.fit(X_train, y_train)\n",
    "\n",
    "y_ada_pred = ada_clf.predict(X_test)\n",
    "\n",
    "accuracy_score(y_test, y_ada_pred)"
   ]
  },
  {
   "cell_type": "code",
   "execution_count": 117,
   "metadata": {},
   "outputs": [
    {
     "data": {
      "image/png": "[encoded data removed]",
      "text/plain": [
       "<Figure size 432x288 with 1 Axes>"
      ]
     },
     "metadata": {
      "needs_background": "light"
     },
     "output_type": "display_data"
    }
   ],
   "source": [
    "plot_decision_boundary(ada_clf, X, y)\n"
   ]
  },
  {
   "cell_type": "markdown",
   "metadata": {},
   "source": [
    "## Gradient Boosting"
   ]
  },
  {
   "cell_type": "code",
   "execution_count": null,
   "metadata": {},
   "outputs": [],
   "source": []
  }
 ],
 "metadata": {
  "kernelspec": {
   "display_name": "Python 3",
   "language": "python",
   "name": "python3"
  },
  "language_info": {
   "codemirror_mode": {
    "name": "ipython",
    "version": 3
   },
   "file_extension": ".py",
   "mimetype": "text/x-python",
   "name": "python",
   "nbconvert_exporter": "python",
   "pygments_lexer": "ipython3",
   "version": "3.8.3"
  }
 },
 "nbformat": 4,
 "nbformat_minor": 4
}
